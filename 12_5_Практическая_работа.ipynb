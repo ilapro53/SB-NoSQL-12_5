{
 "cells": [
  {
   "cell_type": "markdown",
   "metadata": {},
   "source": [
    "# Практическая работа 12.5"
   ]
  },
  {
   "cell_type": "markdown",
   "metadata": {},
   "source": [
    "**Задания:**\n",
    "1.  **Загрузка и анализ данных из CSV-файла**\n",
    "    1.  Разархивируйте sales_data.zip, в нем данные по продажам за 12 месяцев 2019 г. Считайте  в Spark DataFrame каждый из них и объедините в один большой датафрейм методом union, добавьте колонку month для обозначения месяца.\n",
    "    2.  Выведите схему (schema) DataFrame и общую статистику по данным.\n",
    "    3.  Выясните, какие товары пользуются наибольшим спросом (больше всего продаж), выведите Топ-10 товаров и кол-во их покупок.\n",
    "2.  **Партиционирование данных и оптимизация производительности**\n",
    "    1.  Добавьте партиционирование в датафрейм, используя выбранный столбец как ключ партиционирования, и объясните свой выбор.\n",
    "    2.  Выполните операцию агрегации данных (например, суммирование кол-во проданных штук) по партициям.\n",
    "    3.  Оцените производительность и сравните её с непартиционированной таблицей, например замерив все выполнения кода в ячейках Jupyter notebook с помощью %timeit. \n",
    "    4.  Измените количество партиций на одну и запишите файл обратно на диск.\n",
    "3.  **Работа с различными форматами данных**\n",
    "    1.  Сохраните датафрейм с данными, изначально хранящиеся в формате CSV, в других доступных форматах. Например, JSON, Parquet, Avro, ORC.\n",
    "    2.  Проанализируйте различия в производительности (как быстро запись происходит) и объёме хранения для каждого формата на диске компьютера.\n",
    "    3.  Сделайте выводы, оцените плюсы и минусы разных форматов.\n",
    "4.  **Работа с UDF и кешированием**\n",
    "    1.  Создайте UDF на Python, которая парсит адрес покупателя и разбивает колонку Purchase Address на Street address, City, State, Postal Code. \n",
    "    2.  Примените UDF к Spark DataFrame и убедитесь, что форматирование прошло успешно и добавились 4 новые колонки.\n",
    "    3.  Сделайте ещё одно преобразование датафрейма - перемножьте проданные штуки на цену единицы товара, получите Total price, предварительно закешировав (cache) результат применения UDF.\n",
    "    4.  Оцените скорость выполнения всей цепочки преобразований датафрейма (UDF и добавление Total price) без кеширования и с его наличием.\n",
    "    5.  Придумайте и опишите пример из жизни, когда кеширование важно применять и почему это может быть полезно."
   ]
  },
  {
   "cell_type": "code",
   "execution_count": 1,
   "metadata": {},
   "outputs": [],
   "source": [
    "from pyspark import SparkContext, SparkConf\n",
    "from pyspark.sql import SparkSession\n",
    "from pyspark.sql import functions as sf\n",
    "from pyspark.sql.types import StructType, StructField, StringType, FloatType\n",
    "from pathlib import Path\n",
    "import subprocess"
   ]
  },
  {
   "cell_type": "markdown",
   "metadata": {},
   "source": [
    "### 1. Загрузка и анализ данных из CSV-файла"
   ]
  },
  {
   "cell_type": "markdown",
   "metadata": {},
   "source": [
    "-  Разархивируйте sales_data.zip, в нем данные по продажам за 12 месяцев 2019 г. Считайте  в Spark DataFrame каждый из них и объедините в один большой датафрейм методом union, добавьте колонку month для обозначения месяца."
   ]
  },
  {
   "cell_type": "code",
   "execution_count": 12,
   "metadata": {},
   "outputs": [
    {
     "name": "stdout",
     "output_type": "stream",
     "text": [
      "12_5_Практическая_работа.ipynb\tsales_data.zip\r\n"
     ]
    }
   ],
   "source": [
    "!ls "
   ]
  },
  {
   "cell_type": "code",
   "execution_count": 3,
   "metadata": {},
   "outputs": [
    {
     "name": "stdout",
     "output_type": "stream",
     "text": [
      "Archive:  sales_data.zip\n",
      "  inflating: ./sales_data/Sales_April_2019.csv  \n",
      "  inflating: ./sales_data/Sales_August_2019.csv  \n",
      "  inflating: ./sales_data/Sales_December_2019.csv  \n",
      "  inflating: ./sales_data/Sales_February_2019.csv  \n",
      "  inflating: ./sales_data/Sales_January_2019.csv  \n",
      "  inflating: ./sales_data/Sales_July_2019.csv  \n",
      "  inflating: ./sales_data/Sales_June_2019.csv  \n",
      "  inflating: ./sales_data/Sales_March_2019.csv  \n",
      "  inflating: ./sales_data/Sales_May_2019.csv  \n",
      "  inflating: ./sales_data/Sales_November_2019.csv  \n",
      "  inflating: ./sales_data/Sales_October_2019.csv  \n",
      "  inflating: ./sales_data/Sales_September_2019.csv  \n"
     ]
    }
   ],
   "source": [
    "!unzip sales_data.zip -d ./sales_data"
   ]
  },
  {
   "cell_type": "code",
   "execution_count": 14,
   "metadata": {},
   "outputs": [
    {
     "name": "stdout",
     "output_type": "stream",
     "text": [
      "Sales_April_2019.csv\t Sales_January_2019.csv  Sales_May_2019.csv\r\n",
      "Sales_August_2019.csv\t Sales_July_2019.csv\t Sales_November_2019.csv\r\n",
      "Sales_December_2019.csv  Sales_June_2019.csv\t Sales_October_2019.csv\r\n",
      "Sales_February_2019.csv  Sales_March_2019.csv\t Sales_September_2019.csv\r\n"
     ]
    }
   ],
   "source": [
    "!ls sales_data"
   ]
  },
  {
   "cell_type": "code",
   "execution_count": 4,
   "metadata": {},
   "outputs": [
    {
     "name": "stderr",
     "output_type": "stream",
     "text": [
      "/opt/conda/lib/python3.6/site-packages/pyspark/context.py:238: FutureWarning: Python 3.6 support is deprecated in Spark 3.2.\n",
      "  FutureWarning\n"
     ]
    }
   ],
   "source": [
    "app_name = 'Practice_12_5'\n",
    "master = \"local[*]\"\n",
    "\n",
    "conf = SparkConf().setAppName(app_name).setMaster(master)\n",
    "\n",
    "sc = SparkContext(conf=conf)\n",
    "spark = SparkSession(sc)"
   ]
  },
  {
   "cell_type": "code",
   "execution_count": 16,
   "metadata": {},
   "outputs": [
    {
     "name": "stdout",
     "output_type": "stream",
     "text": [
      "Found 1 items\r\n",
      "drwxr-xr-x   - jovyan supergroup          0 2024-06-07 23:12 top_30_words\r\n"
     ]
    }
   ],
   "source": [
    "!hdfs dfs -ls"
   ]
  },
  {
   "cell_type": "code",
   "execution_count": 5,
   "metadata": {},
   "outputs": [
    {
     "data": {
      "text/html": [
       "\n",
       "        <div>\n",
       "            <p><b>SparkContext</b></p>\n",
       "\n",
       "            <p><a href=\"http://172.17.0.13:4040\">Spark UI</a></p>\n",
       "\n",
       "            <dl>\n",
       "              <dt>Version</dt>\n",
       "                <dd><code>v3.3.1</code></dd>\n",
       "              <dt>Master</dt>\n",
       "                <dd><code>local[*]</code></dd>\n",
       "              <dt>AppName</dt>\n",
       "                <dd><code>Practice_12_5</code></dd>\n",
       "            </dl>\n",
       "        </div>\n",
       "        "
      ],
      "text/plain": [
       "<SparkContext master=local[*] appName=Practice_12_5>"
      ]
     },
     "execution_count": 5,
     "metadata": {},
     "output_type": "execute_result"
    }
   ],
   "source": [
    "sc"
   ]
  },
  {
   "cell_type": "code",
   "execution_count": 6,
   "metadata": {},
   "outputs": [
    {
     "name": "stdout",
     "output_type": "stream",
     "text": [
      "[Row(Order ID=278797, Product='Wired Headphones', Quantity Ordered=1, Price Each=11.99, Order Date='11/21/19 09:54', Purchase Address='46 Park St, New York City, NY 10001', Month='November'), Row(Order ID=278798, Product='USB-C Charging Cable', Quantity Ordered=2, Price Each=11.95, Order Date='11/17/19 10:03', Purchase Address='962 Hickory St, Austin, TX 73301', Month='November'), Row(Order ID=278799, Product='Apple Airpods Headphones', Quantity Ordered=1, Price Each=150.0, Order Date='11/19/19 14:56', Purchase Address='464 Cherry St, Los Angeles, CA 90001', Month='November'), Row(Order ID=278800, Product='27in FHD Monitor', Quantity Ordered=1, Price Each=149.99, Order Date='11/25/19 22:24', Purchase Address='649 10th St, Seattle, WA 98101', Month='November'), Row(Order ID=278801, Product='Bose SoundSport Headphones', Quantity Ordered=1, Price Each=99.99, Order Date='11/09/19 13:56', Purchase Address='522 Hill St, Boston, MA 02215', Month='November')]\n",
      "[Row(Order ID=162009, Product='iPhone', Quantity Ordered=1, Price Each=700.0, Order Date='03/28/19 20:59', Purchase Address='942 Church St, Austin, TX 73301', Month='March'), Row(Order ID=162009, Product='Lightning Charging Cable', Quantity Ordered=1, Price Each=14.95, Order Date='03/28/19 20:59', Purchase Address='942 Church St, Austin, TX 73301', Month='March'), Row(Order ID=162009, Product='Wired Headphones', Quantity Ordered=2, Price Each=11.99, Order Date='03/28/19 20:59', Purchase Address='942 Church St, Austin, TX 73301', Month='March'), Row(Order ID=162010, Product='Bose SoundSport Headphones', Quantity Ordered=1, Price Each=99.99, Order Date='03/17/19 05:39', Purchase Address='261 10th St, San Francisco, CA 94016', Month='March'), Row(Order ID=162011, Product='34in Ultrawide Monitor', Quantity Ordered=1, Price Each=379.99, Order Date='03/10/19 00:01', Purchase Address='764 13th St, San Francisco, CA 94016', Month='March')]\n",
      "[Row(Order ID=259358, Product='34in Ultrawide Monitor', Quantity Ordered=1, Price Each=379.99, Order Date='10/28/19 10:56', Purchase Address='609 Cherry St, Dallas, TX 75001', Month='October'), Row(Order ID=259359, Product='27in 4K Gaming Monitor', Quantity Ordered=1, Price Each=389.99, Order Date='10/28/19 17:26', Purchase Address='225 5th St, Los Angeles, CA 90001', Month='October'), Row(Order ID=259360, Product='AAA Batteries (4-pack)', Quantity Ordered=2, Price Each=2.99, Order Date='10/24/19 17:20', Purchase Address='967 12th St, New York City, NY 10001', Month='October'), Row(Order ID=259361, Product='27in FHD Monitor', Quantity Ordered=1, Price Each=149.99, Order Date='10/14/19 22:26', Purchase Address='628 Jefferson St, New York City, NY 10001', Month='October'), Row(Order ID=259362, Product='Wired Headphones', Quantity Ordered=1, Price Each=11.99, Order Date='10/07/19 16:10', Purchase Address='534 14th St, Los Angeles, CA 90001', Month='October')]\n",
      "[Row(Order ID=209921, Product='USB-C Charging Cable', Quantity Ordered=1, Price Each=11.95, Order Date='06/23/19 19:34', Purchase Address='950 Walnut St, Portland, ME 04101', Month='June'), Row(Order ID=209922, Product='Macbook Pro Laptop', Quantity Ordered=1, Price Each=1700.0, Order Date='06/30/19 10:05', Purchase Address='80 4th St, San Francisco, CA 94016', Month='June'), Row(Order ID=209923, Product='ThinkPad Laptop', Quantity Ordered=1, Price Each=999.99, Order Date='06/24/19 20:18', Purchase Address='402 Jackson St, Los Angeles, CA 90001', Month='June'), Row(Order ID=209924, Product='27in FHD Monitor', Quantity Ordered=1, Price Each=149.99, Order Date='06/05/19 10:21', Purchase Address='560 10th St, Seattle, WA 98101', Month='June'), Row(Order ID=209925, Product='Bose SoundSport Headphones', Quantity Ordered=1, Price Each=99.99, Order Date='06/25/19 18:58', Purchase Address='545 2nd St, San Francisco, CA 94016', Month='June')]\n",
      "[Row(Order ID=194095, Product='Wired Headphones', Quantity Ordered=1, Price Each=11.99, Order Date='05/16/19 17:14', Purchase Address='669 2nd St, New York City, NY 10001', Month='May'), Row(Order ID=194096, Product='AA Batteries (4-pack)', Quantity Ordered=1, Price Each=3.84, Order Date='05/19/19 14:43', Purchase Address='844 Walnut St, Dallas, TX 75001', Month='May'), Row(Order ID=194097, Product='27in FHD Monitor', Quantity Ordered=1, Price Each=149.99, Order Date='05/24/19 11:36', Purchase Address='164 Madison St, New York City, NY 10001', Month='May'), Row(Order ID=194098, Product='Wired Headphones', Quantity Ordered=1, Price Each=11.99, Order Date='05/02/19 20:40', Purchase Address='622 Meadow St, Dallas, TX 75001', Month='May'), Row(Order ID=194099, Product='AAA Batteries (4-pack)', Quantity Ordered=2, Price Each=2.99, Order Date='05/11/19 22:55', Purchase Address='17 Church St, Seattle, WA 98101', Month='May')]\n",
      "[Row(Order ID=295665, Product='Macbook Pro Laptop', Quantity Ordered=1, Price Each=1700.0, Order Date='12/30/19 00:01', Purchase Address='136 Church St, New York City, NY 10001', Month='December'), Row(Order ID=295666, Product='LG Washing Machine', Quantity Ordered=1, Price Each=600.0, Order Date='12/29/19 07:03', Purchase Address='562 2nd St, New York City, NY 10001', Month='December'), Row(Order ID=295667, Product='USB-C Charging Cable', Quantity Ordered=1, Price Each=11.95, Order Date='12/12/19 18:21', Purchase Address='277 Main St, New York City, NY 10001', Month='December'), Row(Order ID=295668, Product='27in FHD Monitor', Quantity Ordered=1, Price Each=149.99, Order Date='12/22/19 15:13', Purchase Address='410 6th St, San Francisco, CA 94016', Month='December'), Row(Order ID=295669, Product='USB-C Charging Cable', Quantity Ordered=1, Price Each=11.95, Order Date='12/18/19 12:38', Purchase Address='43 Hill St, Atlanta, GA 30301', Month='December')]\n",
      "[Row(Order ID=141234, Product='iPhone', Quantity Ordered=1, Price Each=700.0, Order Date='01/22/19 21:25', Purchase Address='944 Walnut St, Boston, MA 02215', Month='January'), Row(Order ID=141235, Product='Lightning Charging Cable', Quantity Ordered=1, Price Each=14.95, Order Date='01/28/19 14:15', Purchase Address='185 Maple St, Portland, OR 97035', Month='January'), Row(Order ID=141236, Product='Wired Headphones', Quantity Ordered=2, Price Each=11.99, Order Date='01/17/19 13:33', Purchase Address='538 Adams St, San Francisco, CA 94016', Month='January'), Row(Order ID=141237, Product='27in FHD Monitor', Quantity Ordered=1, Price Each=149.99, Order Date='01/05/19 20:33', Purchase Address='738 10th St, Los Angeles, CA 90001', Month='January'), Row(Order ID=141238, Product='Wired Headphones', Quantity Ordered=1, Price Each=11.99, Order Date='01/25/19 11:59', Purchase Address='387 10th St, Austin, TX 73301', Month='January')]\n",
      "[Row(Order ID=176558, Product='USB-C Charging Cable', Quantity Ordered=2, Price Each=11.95, Order Date='04/19/19 08:46', Purchase Address='917 1st St, Dallas, TX 75001', Month='April'), Row(Order ID=None, Product=None, Quantity Ordered=None, Price Each=None, Order Date=None, Purchase Address=None, Month='April'), Row(Order ID=176559, Product='Bose SoundSport Headphones', Quantity Ordered=1, Price Each=99.99, Order Date='04/07/19 22:30', Purchase Address='682 Chestnut St, Boston, MA 02215', Month='April'), Row(Order ID=176560, Product='Google Phone', Quantity Ordered=1, Price Each=600.0, Order Date='04/12/19 14:38', Purchase Address='669 Spruce St, Los Angeles, CA 90001', Month='April'), Row(Order ID=176560, Product='Wired Headphones', Quantity Ordered=1, Price Each=11.99, Order Date='04/12/19 14:38', Purchase Address='669 Spruce St, Los Angeles, CA 90001', Month='April')]\n",
      "[Row(Order ID=236670, Product='Wired Headphones', Quantity Ordered=2, Price Each=11.99, Order Date='08/31/19 22:21', Purchase Address='359 Spruce St, Seattle, WA 98101', Month='August'), Row(Order ID=236671, Product='Bose SoundSport Headphones', Quantity Ordered=1, Price Each=99.99, Order Date='08/15/19 15:11', Purchase Address='492 Ridge St, Dallas, TX 75001', Month='August'), Row(Order ID=236672, Product='iPhone', Quantity Ordered=1, Price Each=700.0, Order Date='08/06/19 14:40', Purchase Address='149 7th St, Portland, OR 97035', Month='August'), Row(Order ID=236673, Product='AA Batteries (4-pack)', Quantity Ordered=2, Price Each=3.84, Order Date='08/29/19 20:59', Purchase Address='631 2nd St, Los Angeles, CA 90001', Month='August'), Row(Order ID=236674, Product='AA Batteries (4-pack)', Quantity Ordered=2, Price Each=3.84, Order Date='08/15/19 19:53', Purchase Address='736 14th St, New York City, NY 10001', Month='August')]\n"
     ]
    },
    {
     "name": "stdout",
     "output_type": "stream",
     "text": [
      "[Row(Order ID=150502, Product='iPhone', Quantity Ordered=1, Price Each=700.0, Order Date='02/18/19 01:35', Purchase Address='866 Spruce St, Portland, ME 04101', Month='February'), Row(Order ID=150503, Product='AA Batteries (4-pack)', Quantity Ordered=1, Price Each=3.84, Order Date='02/13/19 07:24', Purchase Address='18 13th St, San Francisco, CA 94016', Month='February'), Row(Order ID=150504, Product='27in 4K Gaming Monitor', Quantity Ordered=1, Price Each=389.99, Order Date='02/18/19 09:46', Purchase Address='52 6th St, New York City, NY 10001', Month='February'), Row(Order ID=150505, Product='Lightning Charging Cable', Quantity Ordered=1, Price Each=14.95, Order Date='02/02/19 16:47', Purchase Address='129 Cherry St, Atlanta, GA 30301', Month='February'), Row(Order ID=150506, Product='AA Batteries (4-pack)', Quantity Ordered=2, Price Each=3.84, Order Date='02/28/19 20:32', Purchase Address='548 Lincoln St, Seattle, WA 98101', Month='February')]\n",
      "[Row(Order ID=248151, Product='AA Batteries (4-pack)', Quantity Ordered=4, Price Each=3.84, Order Date='09/17/19 14:44', Purchase Address='380 North St, Los Angeles, CA 90001', Month='September'), Row(Order ID=248152, Product='USB-C Charging Cable', Quantity Ordered=2, Price Each=11.95, Order Date='09/29/19 10:19', Purchase Address='511 8th St, Austin, TX 73301', Month='September'), Row(Order ID=248153, Product='USB-C Charging Cable', Quantity Ordered=1, Price Each=11.95, Order Date='09/16/19 17:48', Purchase Address='151 Johnson St, Los Angeles, CA 90001', Month='September'), Row(Order ID=248154, Product='27in FHD Monitor', Quantity Ordered=1, Price Each=149.99, Order Date='09/27/19 07:52', Purchase Address='355 Hickory St, Seattle, WA 98101', Month='September'), Row(Order ID=248155, Product='USB-C Charging Cable', Quantity Ordered=1, Price Each=11.95, Order Date='09/01/19 19:03', Purchase Address='125 5th St, Atlanta, GA 30301', Month='September')]\n",
      "[Row(Order ID=222910, Product='Apple Airpods Headphones', Quantity Ordered=1, Price Each=150.0, Order Date='07/26/19 16:51', Purchase Address='389 South St, Atlanta, GA 30301', Month='July'), Row(Order ID=222911, Product='Flatscreen TV', Quantity Ordered=1, Price Each=300.0, Order Date='07/05/19 08:55', Purchase Address='590 4th St, Seattle, WA 98101', Month='July'), Row(Order ID=222912, Product='AA Batteries (4-pack)', Quantity Ordered=1, Price Each=3.84, Order Date='07/29/19 12:41', Purchase Address='861 Hill St, Atlanta, GA 30301', Month='July'), Row(Order ID=222913, Product='AA Batteries (4-pack)', Quantity Ordered=1, Price Each=3.84, Order Date='07/28/19 10:15', Purchase Address='190 Ridge St, Atlanta, GA 30301', Month='July'), Row(Order ID=222914, Product='AAA Batteries (4-pack)', Quantity Ordered=5, Price Each=2.99, Order Date='07/31/19 02:13', Purchase Address='824 Forest St, Seattle, WA 98101', Month='July')]\n"
     ]
    }
   ],
   "source": [
    "data_path = Path('./sales_data')\n",
    "subprocess.call(['hdfs', 'dfs', '-mkdir', str(data_path)])\n",
    "\n",
    "data_sdf = None\n",
    "\n",
    "for file_path in data_path.glob('*.csv'):\n",
    "    file_title = file_path.parts[-1].split('.', -1)[0]\n",
    "    _, month, year = file_title.split('_')\n",
    "    year = int(year)\n",
    "    \n",
    "    subprocess.call(['hdfs', 'dfs', '-copyFromLocal', str(file_path), str(file_path)])\n",
    "    tmp_sdf = spark.read.csv(str(file_path), header=True, inferSchema=True)\n",
    "    tmp_sdf = tmp_sdf.withColumn('Month', sf.lit(month))\n",
    "    \n",
    "    if data_sdf is None:\n",
    "        data_sdf = tmp_sdf\n",
    "    else:\n",
    "        data_sdf = data_sdf.union(tmp_sdf)\n",
    "    \n",
    "    print(tmp_sdf.take(5))"
   ]
  },
  {
   "cell_type": "code",
   "execution_count": 19,
   "metadata": {},
   "outputs": [
    {
     "data": {
      "text/plain": [
       "[Row(Order ID=278797, Product='Wired Headphones', Quantity Ordered=1, Price Each=11.99, Order Date='11/21/19 09:54', Purchase Address='46 Park St, New York City, NY 10001', Month='November'),\n",
       " Row(Order ID=278798, Product='USB-C Charging Cable', Quantity Ordered=2, Price Each=11.95, Order Date='11/17/19 10:03', Purchase Address='962 Hickory St, Austin, TX 73301', Month='November'),\n",
       " Row(Order ID=278799, Product='Apple Airpods Headphones', Quantity Ordered=1, Price Each=150.0, Order Date='11/19/19 14:56', Purchase Address='464 Cherry St, Los Angeles, CA 90001', Month='November'),\n",
       " Row(Order ID=278800, Product='27in FHD Monitor', Quantity Ordered=1, Price Each=149.99, Order Date='11/25/19 22:24', Purchase Address='649 10th St, Seattle, WA 98101', Month='November'),\n",
       " Row(Order ID=278801, Product='Bose SoundSport Headphones', Quantity Ordered=1, Price Each=99.99, Order Date='11/09/19 13:56', Purchase Address='522 Hill St, Boston, MA 02215', Month='November')]"
      ]
     },
     "execution_count": 19,
     "metadata": {},
     "output_type": "execute_result"
    }
   ],
   "source": [
    "data_sdf.take(5)"
   ]
  },
  {
   "cell_type": "code",
   "execution_count": 20,
   "metadata": {},
   "outputs": [
    {
     "name": "stdout",
     "output_type": "stream",
     "text": [
      "Found 2 items\r\n",
      "drwxr-xr-x   - jovyan supergroup          0 2024-06-09 20:27 sales_data\r\n",
      "drwxr-xr-x   - jovyan supergroup          0 2024-06-07 23:12 top_30_words\r\n"
     ]
    }
   ],
   "source": [
    "!hdfs dfs -ls"
   ]
  },
  {
   "cell_type": "code",
   "execution_count": 21,
   "metadata": {},
   "outputs": [
    {
     "name": "stdout",
     "output_type": "stream",
     "text": [
      "Found 12 items\r\n",
      "-rw-r--r--   1 jovyan supergroup    1595953 2024-06-09 20:26 sales_data/Sales_April_2019.csv\r\n",
      "-rw-r--r--   1 jovyan supergroup    1043593 2024-06-09 20:26 sales_data/Sales_August_2019.csv\r\n",
      "-rw-r--r--   1 jovyan supergroup    2181642 2024-06-09 20:26 sales_data/Sales_December_2019.csv\r\n",
      "-rw-r--r--   1 jovyan supergroup    1046495 2024-06-09 20:26 sales_data/Sales_February_2019.csv\r\n",
      "-rw-r--r--   1 jovyan supergroup     843098 2024-06-09 20:26 sales_data/Sales_January_2019.csv\r\n",
      "-rw-r--r--   1 jovyan supergroup    1248753 2024-06-09 20:27 sales_data/Sales_July_2019.csv\r\n",
      "-rw-r--r--   1 jovyan supergroup    1182508 2024-06-09 20:26 sales_data/Sales_June_2019.csv\r\n",
      "-rw-r--r--   1 jovyan supergroup    1323497 2024-06-09 20:26 sales_data/Sales_March_2019.csv\r\n",
      "-rw-r--r--   1 jovyan supergroup    1443965 2024-06-09 20:26 sales_data/Sales_May_2019.csv\r\n",
      "-rw-r--r--   1 jovyan supergroup    1534677 2024-06-09 20:26 sales_data/Sales_November_2019.csv\r\n",
      "-rw-r--r--   1 jovyan supergroup    1770338 2024-06-09 20:26 sales_data/Sales_October_2019.csv\r\n",
      "-rw-r--r--   1 jovyan supergroup    1014958 2024-06-09 20:27 sales_data/Sales_September_2019.csv\r\n"
     ]
    }
   ],
   "source": [
    "!hdfs dfs -ls ./sales_data"
   ]
  },
  {
   "cell_type": "markdown",
   "metadata": {},
   "source": [
    "- Выведите схему (schema) DataFrame и общую статистику по данным."
   ]
  },
  {
   "cell_type": "code",
   "execution_count": 22,
   "metadata": {},
   "outputs": [
    {
     "name": "stdout",
     "output_type": "stream",
     "text": [
      "root\n",
      " |-- Order ID: integer (nullable = true)\n",
      " |-- Product: string (nullable = true)\n",
      " |-- Quantity Ordered: integer (nullable = true)\n",
      " |-- Price Each: double (nullable = true)\n",
      " |-- Order Date: string (nullable = true)\n",
      " |-- Purchase Address: string (nullable = true)\n",
      " |-- Month: string (nullable = false)\n",
      "\n"
     ]
    }
   ],
   "source": [
    "data_sdf.printSchema()"
   ]
  },
  {
   "cell_type": "code",
   "execution_count": 23,
   "metadata": {},
   "outputs": [
    {
     "name": "stdout",
     "output_type": "stream",
     "text": [
      "+-------+-----------------+------------+------------------+------------------+--------------+--------------------+---------+\n",
      "|summary|         Order ID|     Product|  Quantity Ordered|        Price Each|    Order Date|    Purchase Address|    Month|\n",
      "+-------+-----------------+------------+------------------+------------------+--------------+--------------------+---------+\n",
      "|  count|           185950|      186305|            185950|            185950|        186305|              186305|   186850|\n",
      "|   mean|230417.5693788653|        null|1.1243828986286637|184.39973476743927|          null|                null|     null|\n",
      "| stddev|51512.73710999595|        null|0.4427926240286695| 332.7313298843437|          null|                null|     null|\n",
      "|    min|           141234|20in Monitor|                 1|              2.99|01/01/19 03:07|1 11th St, Atlant...|    April|\n",
      "|    max|           319670|      iPhone|                 9|            1700.0|    Order Date|    Purchase Address|September|\n",
      "+-------+-----------------+------------+------------------+------------------+--------------+--------------------+---------+\n",
      "\n"
     ]
    }
   ],
   "source": [
    "data_sdf.describe().show()"
   ]
  },
  {
   "cell_type": "markdown",
   "metadata": {},
   "source": [
    "- Выясните, какие товары пользуются наибольшим спросом (больше всего продаж), выведите Топ-10 товаров и кол-во их покупок."
   ]
  },
  {
   "cell_type": "code",
   "execution_count": 7,
   "metadata": {},
   "outputs": [
    {
     "name": "stdout",
     "output_type": "stream",
     "text": [
      "+--------------------+----------------------+\n",
      "|             Product|Total Quantity Ordered|\n",
      "+--------------------+----------------------+\n",
      "|AAA Batteries (4-...|                 31017|\n",
      "|AA Batteries (4-p...|                 27635|\n",
      "|USB-C Charging Cable|                 23975|\n",
      "|Lightning Chargin...|                 23217|\n",
      "|    Wired Headphones|                 20557|\n",
      "|Apple Airpods Hea...|                 15661|\n",
      "|Bose SoundSport H...|                 13457|\n",
      "|    27in FHD Monitor|                  7550|\n",
      "|              iPhone|                  6849|\n",
      "|27in 4K Gaming Mo...|                  6244|\n",
      "+--------------------+----------------------+\n",
      "\n"
     ]
    }
   ],
   "source": [
    "total_quantity_ordered_sdf = data_sdf.groupBy(\"Product\") \\\n",
    "    .agg(sf.sum(\"Quantity Ordered\")) \\\n",
    "    .select(\n",
    "        sf.col(\"Product\"), \n",
    "        sf.col(\"sum(Quantity Ordered)\").alias(\"Total Quantity Ordered\")\n",
    "    ) \\\n",
    "    .orderBy(\"Total Quantity Ordered\", ascending=False)\n",
    "\n",
    "total_quantity_ordered_sdf.limit(10).show()"
   ]
  },
  {
   "cell_type": "markdown",
   "metadata": {},
   "source": [
    "### 2. Партиционирование данных и оптимизация производительности"
   ]
  },
  {
   "cell_type": "markdown",
   "metadata": {},
   "source": [
    "- Добавьте партиционирование в датафрейм, используя выбранный столбец как ключ партиционирования, и объясните свой выбор."
   ]
  },
  {
   "cell_type": "code",
   "execution_count": 25,
   "metadata": {},
   "outputs": [
    {
     "data": {
      "text/plain": [
       "186850"
      ]
     },
     "execution_count": 25,
     "metadata": {},
     "output_type": "execute_result"
    }
   ],
   "source": [
    "data_sdf.count()"
   ]
  },
  {
   "cell_type": "code",
   "execution_count": 26,
   "metadata": {},
   "outputs": [
    {
     "name": "stdout",
     "output_type": "stream",
     "text": [
      "+--------+--------------------+----------------+----------+--------------+--------------------+--------+\n",
      "|Order ID|             Product|Quantity Ordered|Price Each|    Order Date|    Purchase Address|   Month|\n",
      "+--------+--------------------+----------------+----------+--------------+--------------------+--------+\n",
      "|  278797|    Wired Headphones|               1|     11.99|11/21/19 09:54|46 Park St, New Y...|November|\n",
      "|  278798|USB-C Charging Cable|               2|     11.95|11/17/19 10:03|962 Hickory St, A...|November|\n",
      "|  278799|Apple Airpods Hea...|               1|     150.0|11/19/19 14:56|464 Cherry St, Lo...|November|\n",
      "|  278800|    27in FHD Monitor|               1|    149.99|11/25/19 22:24|649 10th St, Seat...|November|\n",
      "|  278801|Bose SoundSport H...|               1|     99.99|11/09/19 13:56|522 Hill St, Bost...|November|\n",
      "+--------+--------------------+----------------+----------+--------------+--------------------+--------+\n",
      "\n"
     ]
    }
   ],
   "source": [
    "data_sdf.limit(5).show()"
   ]
  },
  {
   "cell_type": "code",
   "execution_count": 27,
   "metadata": {},
   "outputs": [
    {
     "data": {
      "text/plain": [
       "21"
      ]
     },
     "execution_count": 27,
     "metadata": {},
     "output_type": "execute_result"
    }
   ],
   "source": [
    "data_sdf.select(\"Product\").distinct().count()"
   ]
  },
  {
   "cell_type": "code",
   "execution_count": 28,
   "metadata": {},
   "outputs": [
    {
     "data": {
      "text/plain": [
       "12"
      ]
     },
     "execution_count": 28,
     "metadata": {},
     "output_type": "execute_result"
    }
   ],
   "source": [
    "data_sdf.rdd.getNumPartitions()"
   ]
  },
  {
   "cell_type": "code",
   "execution_count": 8,
   "metadata": {
    "scrolled": true
   },
   "outputs": [],
   "source": [
    "# Делаю партиционирование по клонке \"Month\" или \"Product\" т.к\n",
    "# они являются категориальными\n",
    "data_sdf.write.format('csv').partitionBy('Month').option('header', True).save('sales_data_prt')"
   ]
  },
  {
   "cell_type": "code",
   "execution_count": 30,
   "metadata": {},
   "outputs": [
    {
     "name": "stdout",
     "output_type": "stream",
     "text": [
      "Found 13 items\r\n",
      "drwxr-xr-x   - jovyan supergroup          0 2024-06-09 20:27 sales_data_prt/Month=April\r\n",
      "drwxr-xr-x   - jovyan supergroup          0 2024-06-09 20:27 sales_data_prt/Month=August\r\n",
      "drwxr-xr-x   - jovyan supergroup          0 2024-06-09 20:27 sales_data_prt/Month=December\r\n",
      "drwxr-xr-x   - jovyan supergroup          0 2024-06-09 20:27 sales_data_prt/Month=February\r\n",
      "drwxr-xr-x   - jovyan supergroup          0 2024-06-09 20:27 sales_data_prt/Month=January\r\n",
      "drwxr-xr-x   - jovyan supergroup          0 2024-06-09 20:27 sales_data_prt/Month=July\r\n",
      "drwxr-xr-x   - jovyan supergroup          0 2024-06-09 20:27 sales_data_prt/Month=June\r\n",
      "drwxr-xr-x   - jovyan supergroup          0 2024-06-09 20:27 sales_data_prt/Month=March\r\n",
      "drwxr-xr-x   - jovyan supergroup          0 2024-06-09 20:27 sales_data_prt/Month=May\r\n",
      "drwxr-xr-x   - jovyan supergroup          0 2024-06-09 20:27 sales_data_prt/Month=November\r\n",
      "drwxr-xr-x   - jovyan supergroup          0 2024-06-09 20:27 sales_data_prt/Month=October\r\n",
      "drwxr-xr-x   - jovyan supergroup          0 2024-06-09 20:27 sales_data_prt/Month=September\r\n",
      "-rw-r--r--   1 jovyan supergroup          0 2024-06-09 20:27 sales_data_prt/_SUCCESS\r\n"
     ]
    }
   ],
   "source": [
    "!hdfs dfs -ls sales_data_prt"
   ]
  },
  {
   "cell_type": "code",
   "execution_count": 9,
   "metadata": {},
   "outputs": [],
   "source": [
    "prt_data_sdf = spark.read.csv('./sales_data_prt', header=True, inferSchema=True)"
   ]
  },
  {
   "cell_type": "markdown",
   "metadata": {},
   "source": [
    "- Выполните операцию агрегации данных (например, суммирование кол-во проданных штук) по партициям."
   ]
  },
  {
   "cell_type": "code",
   "execution_count": 32,
   "metadata": {},
   "outputs": [],
   "source": [
    "data_sdf.groupBy(\"Month\") \\\n",
    "    .agg(sf.sum(\"Quantity Ordered\")) \\\n",
    "    .collect();"
   ]
  },
  {
   "cell_type": "markdown",
   "metadata": {},
   "source": [
    "- Оцените производительность и сравните её с непартиционированной таблицей, например замерив все выполнения кода в ячейках Jupyter notebook с помощью %timeit."
   ]
  },
  {
   "cell_type": "code",
   "execution_count": 33,
   "metadata": {},
   "outputs": [
    {
     "name": "stdout",
     "output_type": "stream",
     "text": [
      "599 ms ± 53.2 ms per loop (mean ± std. dev. of 7 runs, 10 loops each)\n"
     ]
    }
   ],
   "source": [
    "%%timeit -n 10\n",
    "\n",
    "data_sdf.groupBy(\"Month\") \\\n",
    "    .agg(sf.sum(\"Quantity Ordered\")) \\\n",
    "    .collect();"
   ]
  },
  {
   "cell_type": "code",
   "execution_count": 34,
   "metadata": {},
   "outputs": [
    {
     "name": "stdout",
     "output_type": "stream",
     "text": [
      "368 ms ± 75.1 ms per loop (mean ± std. dev. of 7 runs, 10 loops each)\n"
     ]
    }
   ],
   "source": [
    "%%timeit -n 10\n",
    "\n",
    "prt_data_sdf.groupBy(\"Month\") \\\n",
    "    .agg(sf.sum(\"Quantity Ordered\")) \\\n",
    "    .collect();"
   ]
  },
  {
   "cell_type": "code",
   "execution_count": 35,
   "metadata": {},
   "outputs": [],
   "source": [
    "# Скорость выполнения запроса увеличилась"
   ]
  },
  {
   "cell_type": "markdown",
   "metadata": {},
   "source": [
    "- Измените количество партиций на одну и запишите файл обратно на диск."
   ]
  },
  {
   "cell_type": "code",
   "execution_count": 10,
   "metadata": {},
   "outputs": [],
   "source": [
    "prt_data_sdf.coalesce(1).write.format('csv').option('header', True).save('./sales_data_coalesce_1')"
   ]
  },
  {
   "cell_type": "code",
   "execution_count": 37,
   "metadata": {},
   "outputs": [
    {
     "name": "stdout",
     "output_type": "stream",
     "text": [
      "Found 2 items\r\n",
      "-rw-r--r--   1 jovyan supergroup          0 2024-06-09 20:28 sales_data_coalesce_1/_SUCCESS\r\n",
      "-rw-r--r--   1 jovyan supergroup   17638412 2024-06-09 20:28 sales_data_coalesce_1/part-00000-b363ec96-3206-4279-b93c-e61a83de417c-c000.csv\r\n"
     ]
    }
   ],
   "source": [
    "!hdfs dfs -ls sales_data_coalesce_1"
   ]
  },
  {
   "cell_type": "markdown",
   "metadata": {},
   "source": [
    "### 3. Работа с различными форматами данных"
   ]
  },
  {
   "cell_type": "markdown",
   "metadata": {},
   "source": [
    "- Сохраните датафрейм с данными, изначально хранящиеся в формате CSV, в других доступных форматах. Например, JSON, Parquet, Avro, ORC."
   ]
  },
  {
   "cell_type": "markdown",
   "metadata": {},
   "source": [
    "- Проанализируйте различия в производительности (как быстро запись происходит) и объёме хранения для каждого формата на диске компьютера."
   ]
  },
  {
   "cell_type": "code",
   "execution_count": 38,
   "metadata": {},
   "outputs": [
    {
     "data": {
      "text/plain": [
       "16229477"
      ]
     },
     "execution_count": 38,
     "metadata": {},
     "output_type": "execute_result"
    }
   ],
   "source": [
    "def get_folder_size(path):\n",
    "    path = Path(path)\n",
    "    return sum(f.stat().st_size for f in path.glob('**/*') if f.is_file())\n",
    "\n",
    "get_folder_size('sales_data')"
   ]
  },
  {
   "cell_type": "code",
   "execution_count": 39,
   "metadata": {},
   "outputs": [],
   "source": [
    "def hdfs_du(path, in_bytes=False):\n",
    "    cmd = ['hdfs', 'dfs', '-du', '-s']\n",
    "    \n",
    "    if not in_bytes:\n",
    "        cmd.append('-h')\n",
    "        \n",
    "    cmd.append(path)\n",
    "    out = subprocess.check_output(cmd)\n",
    "    size = out.split()[0].decode('utf-8')\n",
    "    mesure = out.split()[1].decode('utf-8')\n",
    "    \n",
    "    if in_bytes:\n",
    "        return int(size)\n",
    "    else:\n",
    "        return float(size), mesure\n",
    "    \n",
    "# hdfs_du('sales_data_tmp')"
   ]
  },
  {
   "cell_type": "code",
   "execution_count": 40,
   "metadata": {},
   "outputs": [],
   "source": [
    "import time"
   ]
  },
  {
   "cell_type": "code",
   "execution_count": 41,
   "metadata": {},
   "outputs": [],
   "source": [
    "def test_data_format(df, d_format, iterations):\n",
    "    \n",
    "    subprocess.call(['hdfs', 'dfs', '-rm', '-r', './sales_data_tmp'])\n",
    "    data_sdf.write.format(d_format).save('./sales_data_tmp')\n",
    "    data_size = hdfs_du('./sales_data_tmp')\n",
    "    subprocess.call(['hdfs', 'dfs', '-rm', '-r', './sales_data_tmp'])\n",
    "    \n",
    "    total_write_time = 0\n",
    "    for i in range(iterations):\n",
    "        start_time = time.time()\n",
    "        data_sdf.write.format(d_format).save('./sales_data_tmp')\n",
    "        total_write_time += time.time() - start_time\n",
    "        \n",
    "        subprocess.call(['hdfs', 'dfs', '-rm', '-r', './sales_data_tmp'])\n",
    "        \n",
    "    return {\n",
    "        'data_size': data_size,\n",
    "        'total_write_time': total_write_time,\n",
    "        'avg_write_time': total_write_time/iterations,\n",
    "    }\n",
    "\n",
    "# test_data_format(data_sdf, 'csv', 10)"
   ]
  },
  {
   "cell_type": "code",
   "execution_count": 42,
   "metadata": {},
   "outputs": [
    {
     "name": "stdout",
     "output_type": "stream",
     "text": [
      "Testing format: json ...\n",
      "\tjson: {'data_size': (34.8, 'M'), 'total_write_time': 36.860700845718384, 'avg_write_time': 1.2286900281906128}\n",
      "Testing format: parquet ...\n",
      "\tparquet: {'data_size': (4.3, 'M'), 'total_write_time': 49.05225968360901, 'avg_write_time': 1.635075322786967}\n",
      "Testing format: orc ...\n",
      "\torc: {'data_size': (3.4, 'M'), 'total_write_time': 47.510725021362305, 'avg_write_time': 1.5836908340454101}\n",
      "Testing format: avro ...\n",
      "\tavro: error\n"
     ]
    }
   ],
   "source": [
    "formats = [\n",
    "    'json',\n",
    "    'parquet',\n",
    "    'orc',\n",
    "    'avro'\n",
    "]\n",
    "\n",
    "for frm in formats:\n",
    "    print('Testing format:', frm, '...')\n",
    "    try:\n",
    "        results = test_data_format(data_sdf, frm, 30)\n",
    "    except:\n",
    "        results = 'error'\n",
    "        \n",
    "    print(f'\\t{frm}:', results)"
   ]
  },
  {
   "cell_type": "markdown",
   "metadata": {},
   "source": [
    "- Сделайте выводы, оцените плюсы и минусы разных форматов."
   ]
  },
  {
   "cell_type": "code",
   "execution_count": 43,
   "metadata": {},
   "outputs": [],
   "source": [
    "# json: \n",
    "#       - занимает больше всего места на диске\n",
    "#       + самая быстрая скорость записи\n",
    "# parquet:\n",
    "#      -  самая медленная скорость записи\n",
    "#     ++- занимает в 8 раз меньше места, чем json\n",
    "# orc:\n",
    "#      +- скорсть записи больше, чем parquet, но меньше чем json\n",
    "#      +  занимает меньше всего меньше места на диске (в 10.2 реза меньше места, чем json)"
   ]
  },
  {
   "cell_type": "markdown",
   "metadata": {},
   "source": [
    "### 4. Работа с UDF и кешированием"
   ]
  },
  {
   "cell_type": "markdown",
   "metadata": {},
   "source": [
    "- Создайте UDF на Python, которая парсит адрес покупателя и разбивает колонку Purchase Address на Street address, City, State, Postal Code."
   ]
  },
  {
   "cell_type": "code",
   "execution_count": 44,
   "metadata": {},
   "outputs": [
    {
     "name": "stdout",
     "output_type": "stream",
     "text": [
      "+--------+--------------------+----------------+----------+--------------+--------------------+--------+\n",
      "|Order ID|             Product|Quantity Ordered|Price Each|    Order Date|    Purchase Address|   Month|\n",
      "+--------+--------------------+----------------+----------+--------------+--------------------+--------+\n",
      "|  278797|    Wired Headphones|               1|     11.99|11/21/19 09:54|46 Park St, New Y...|November|\n",
      "|  278798|USB-C Charging Cable|               2|     11.95|11/17/19 10:03|962 Hickory St, A...|November|\n",
      "|  278799|Apple Airpods Hea...|               1|     150.0|11/19/19 14:56|464 Cherry St, Lo...|November|\n",
      "|  278800|    27in FHD Monitor|               1|    149.99|11/25/19 22:24|649 10th St, Seat...|November|\n",
      "|  278801|Bose SoundSport H...|               1|     99.99|11/09/19 13:56|522 Hill St, Bost...|November|\n",
      "+--------+--------------------+----------------+----------+--------------+--------------------+--------+\n",
      "\n"
     ]
    }
   ],
   "source": [
    "data_sdf.limit(5).show()"
   ]
  },
  {
   "cell_type": "code",
   "execution_count": 80,
   "metadata": {},
   "outputs": [
    {
     "data": {
      "text/plain": [
       "[Row(Purchase Address='46 Park St, New York City, NY 10001'),\n",
       " Row(Purchase Address='962 Hickory St, Austin, TX 73301'),\n",
       " Row(Purchase Address='464 Cherry St, Los Angeles, CA 90001'),\n",
       " Row(Purchase Address='649 10th St, Seattle, WA 98101'),\n",
       " Row(Purchase Address='522 Hill St, Boston, MA 02215')]"
      ]
     },
     "execution_count": 80,
     "metadata": {},
     "output_type": "execute_result"
    }
   ],
   "source": [
    "data_sdf.select('Purchase Address').take(5)"
   ]
  },
  {
   "cell_type": "code",
   "execution_count": 11,
   "metadata": {},
   "outputs": [
    {
     "data": {
      "text/plain": [
       "('46 Park St', 'New York City', 'NY', '10001')"
      ]
     },
     "execution_count": 11,
     "metadata": {},
     "output_type": "execute_result"
    }
   ],
   "source": [
    "def split_address(address):\n",
    "    if address is None:\n",
    "        return (None, None, None, None)\n",
    "    \n",
    "    try:\n",
    "        street, city, state_and_postal_code = address.split(\",\")\n",
    "        state, postal_code = state_and_postal_code.strip().split(' ')\n",
    "    except ValueError:\n",
    "        return (None, None, None, None)\n",
    "    \n",
    "    street = street.strip()\n",
    "    city = city.strip()\n",
    "    state = state.strip()\n",
    "    postal_code = postal_code.strip()\n",
    "    \n",
    "    return street, city, state, postal_code\n",
    "\n",
    "split_address('46 Park St, New York City, NY 10001')"
   ]
  },
  {
   "cell_type": "code",
   "execution_count": 12,
   "metadata": {},
   "outputs": [],
   "source": [
    "split_address_udf_return_type = StructType([\n",
    "        StructField(\"Street\", StringType()),\n",
    "        StructField(\"City\", StringType()),\n",
    "        StructField(\"State\", StringType()),\n",
    "        StructField(\"Postal Code\", StringType()),\n",
    "    ])\n",
    "\n",
    "split_address_udf = sf.udf(\n",
    "    f=split_address,\n",
    "    returnType=split_address_udf_return_type\n",
    ")"
   ]
  },
  {
   "cell_type": "markdown",
   "metadata": {},
   "source": [
    "- Примените UDF к Spark DataFrame и убедитесь, что форматирование прошло успешно и добавились 4 новые колонки."
   ]
  },
  {
   "cell_type": "code",
   "execution_count": 13,
   "metadata": {},
   "outputs": [],
   "source": [
    "data_sdf = data_sdf\\\n",
    "    .withColumn(\n",
    "        \"Split Purchase Address\", \n",
    "        split_address_udf(sf.col(\"Purchase Address\"))\n",
    "    )\\\n",
    "    .withColumn(\"Street\", sf.col(\"Split Purchase Address\")[\"Street\"])\\\n",
    "    .withColumn(\"City\", sf.col(\"Split Purchase Address\")[\"City\"])\\\n",
    "    .withColumn(\"State\", sf.col(\"Split Purchase Address\")[\"State\"])\\\n",
    "    .withColumn(\"Postal Code\", sf.col(\"Split Purchase Address\")[\"Postal Code\"])"
   ]
  },
  {
   "cell_type": "code",
   "execution_count": 84,
   "metadata": {},
   "outputs": [
    {
     "data": {
      "text/plain": [
       "['Order ID',\n",
       " 'Product',\n",
       " 'Quantity Ordered',\n",
       " 'Price Each',\n",
       " 'Order Date',\n",
       " 'Purchase Address',\n",
       " 'Month',\n",
       " 'Split Purchase Address',\n",
       " 'Street',\n",
       " 'City',\n",
       " 'State',\n",
       " 'Postal Code',\n",
       " 'Total Price']"
      ]
     },
     "execution_count": 84,
     "metadata": {},
     "output_type": "execute_result"
    }
   ],
   "source": [
    "data_sdf.columns"
   ]
  },
  {
   "cell_type": "code",
   "execution_count": 85,
   "metadata": {},
   "outputs": [
    {
     "name": "stdout",
     "output_type": "stream",
     "text": [
      "+--------+--------------+-------------+-----+-----------+\n",
      "|Order ID|        Street|         City|State|Postal Code|\n",
      "+--------+--------------+-------------+-----+-----------+\n",
      "|  278797|    46 Park St|New York City|   NY|      10001|\n",
      "|  278798|962 Hickory St|       Austin|   TX|      73301|\n",
      "|  278799| 464 Cherry St|  Los Angeles|   CA|      90001|\n",
      "|  278800|   649 10th St|      Seattle|   WA|      98101|\n",
      "|  278801|   522 Hill St|       Boston|   MA|      02215|\n",
      "+--------+--------------+-------------+-----+-----------+\n",
      "\n"
     ]
    }
   ],
   "source": [
    "data_sdf.select(\"Order ID\", \"Street\", \"City\", \"State\", \"Postal Code\").limit(5).show()"
   ]
  },
  {
   "cell_type": "markdown",
   "metadata": {},
   "source": [
    "- Сделайте ещё одно преобразование датафрейма - перемножьте проданные штуки на цену единицы товара, получите Total price, предварительно закешировав (cache) результат применения UDF."
   ]
  },
  {
   "cell_type": "code",
   "execution_count": 14,
   "metadata": {},
   "outputs": [],
   "source": [
    "data_sdf = data_sdf.drop(\"Total Price\")"
   ]
  },
  {
   "cell_type": "code",
   "execution_count": 15,
   "metadata": {},
   "outputs": [],
   "source": [
    "def total_price(price_each, quantity_ordered):\n",
    "    if (price_each is None) or (quantity_ordered is None):\n",
    "        return None\n",
    "    else:\n",
    "        return price_each*quantity_ordered\n",
    "\n",
    "total_price_udf = sf.udf(\n",
    "    f=total_price,\n",
    "    returnType=FloatType()\n",
    ")"
   ]
  },
  {
   "cell_type": "code",
   "execution_count": 21,
   "metadata": {},
   "outputs": [],
   "source": [
    "data_sdf.cache?"
   ]
  },
  {
   "cell_type": "code",
   "execution_count": 16,
   "metadata": {},
   "outputs": [
    {
     "name": "stdout",
     "output_type": "stream",
     "text": [
      "+--------+-----------+----------------+----------+\n",
      "|Order ID|Total Price|Quantity Ordered|Price Each|\n",
      "+--------+-----------+----------------+----------+\n",
      "|  278797|      11.99|               1|     11.99|\n",
      "|  278798|       23.9|               2|     11.95|\n",
      "|  278799|      150.0|               1|     150.0|\n",
      "|  278800|     149.99|               1|    149.99|\n",
      "|  278801|      99.99|               1|     99.99|\n",
      "|  278802|      11.95|               1|     11.95|\n",
      "|  278803|      14.95|               1|     14.95|\n",
      "|  278804|      99.99|               1|     99.99|\n",
      "|  278805|      14.95|               1|     14.95|\n",
      "|  278806|      99.99|               1|     99.99|\n",
      "+--------+-----------+----------------+----------+\n",
      "\n"
     ]
    }
   ],
   "source": [
    "data_sdf = data_sdf.withColumn(\"Total Price\", total_price_udf(sf.col(\"Price Each\"), sf.col(\"Quantity Ordered\"))).cache()\n",
    "data_sdf.select(\"Order ID\", \"Total Price\", \"Quantity Ordered\", \"Price Each\").limit(10).show()"
   ]
  },
  {
   "cell_type": "markdown",
   "metadata": {},
   "source": [
    "- Оцените скорость выполнения всей цепочки преобразований датафрейма (UDF и добавление Total price) без кеширования и с его наличием."
   ]
  },
  {
   "cell_type": "code",
   "execution_count": 76,
   "metadata": {},
   "outputs": [],
   "source": [
    "data_sdf = data_sdf.drop(\"Total Price\")"
   ]
  },
  {
   "cell_type": "code",
   "execution_count": 87,
   "metadata": {},
   "outputs": [],
   "source": [
    "def calculations():\n",
    "    global data_sdf\n",
    "\n",
    "    for i in range(8):\n",
    "        data_sdf.collect()"
   ]
  },
  {
   "cell_type": "code",
   "execution_count": 88,
   "metadata": {},
   "outputs": [],
   "source": [
    "%%capture\n",
    "# кэширование\n",
    "data_sdf = data_sdf.withColumn(\n",
    "    \"Total Price\", \n",
    "    total_price_udf(sf.col(\"Price Each\"), sf.col(\"Quantity Ordered\"))\n",
    ").cache()\n",
    "data_sdf.collect()"
   ]
  },
  {
   "cell_type": "code",
   "execution_count": 89,
   "metadata": {},
   "outputs": [
    {
     "name": "stdout",
     "output_type": "stream",
     "text": [
      "CPU times: user 23.3 s, sys: 783 ms, total: 24.1 s\n",
      "Wall time: 29.3 s\n"
     ]
    }
   ],
   "source": [
    "%%time\n",
    "# вычисления с кэшированием\n",
    "calculations()"
   ]
  },
  {
   "cell_type": "code",
   "execution_count": 90,
   "metadata": {},
   "outputs": [],
   "source": [
    "# очистка кэша\n",
    "data_sdf.unpersist();"
   ]
  },
  {
   "cell_type": "code",
   "execution_count": 91,
   "metadata": {},
   "outputs": [
    {
     "name": "stdout",
     "output_type": "stream",
     "text": [
      "CPU times: user 22.9 s, sys: 772 ms, total: 23.7 s\n",
      "Wall time: 37.1 s\n"
     ]
    }
   ],
   "source": [
    "%%time\n",
    "# вычисления без кэширования\n",
    "calculations()"
   ]
  },
  {
   "cell_type": "markdown",
   "metadata": {},
   "source": [
    "- Придумайте и опишите пример из жизни, когда кеширование важно применять и почему это может быть полезно."
   ]
  },
  {
   "cell_type": "code",
   "execution_count": 75,
   "metadata": {},
   "outputs": [],
   "source": [
    "# Например кэширование промежуточных результатов при вычислении нескольких\n",
    "# метрик, которые вычисляютя на основе одинаковых данных"
   ]
  }
 ],
 "metadata": {
  "kernelspec": {
   "display_name": "Python 3",
   "language": "python",
   "name": "python3"
  },
  "language_info": {
   "codemirror_mode": {
    "name": "ipython",
    "version": 3
   },
   "file_extension": ".py",
   "mimetype": "text/x-python",
   "name": "python",
   "nbconvert_exporter": "python",
   "pygments_lexer": "ipython3",
   "version": "3.6.5"
  }
 },
 "nbformat": 4,
 "nbformat_minor": 2
}
